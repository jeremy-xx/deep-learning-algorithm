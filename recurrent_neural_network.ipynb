{
 "cells": [
  {
   "cell_type": "markdown",
   "metadata": {},
   "source": [
    "## Recurrent Neural Network"
   ]
  },
  {
   "cell_type": "code",
   "execution_count": 189,
   "metadata": {},
   "outputs": [],
   "source": [
    "import numpy as np\n",
    "import matplotlib.pyplot as plt\n",
    "import seaborn as sns\n",
    "import tensorflow as tf\n",
    "from keras.datasets import mnist\n",
    "\n",
    "sns.set()"
   ]
  },
  {
   "cell_type": "code",
   "execution_count": 190,
   "metadata": {},
   "outputs": [],
   "source": [
    "# load mnist of handwritten digits data\n",
    "(X_train, Y_train), (X_test, Y_test) = mnist.load_data()\n",
    "X_train = X_train/255\n",
    "X_test  = X_test/255\n",
    "\n",
    "idx = np.random.permutation(60000)\n",
    "X_train = X_train[idx,:,:]\n",
    "Y_train = Y_train[idx]\n",
    "\n",
    "X_train, X_valid = X_train[6000:,:,:], X_train[:6000,:,:]\n",
    "Y_train, Y_valid = Y_train[6000:], Y_train[:6000]"
   ]
  },
  {
   "cell_type": "code",
   "execution_count": 191,
   "metadata": {},
   "outputs": [],
   "source": [
    "m = X_train.shape[0]\n",
    "n_x = 28\n",
    "T_x = 28\n",
    "n_a = 50\n",
    "n_y = 10"
   ]
  },
  {
   "cell_type": "code",
   "execution_count": 192,
   "metadata": {},
   "outputs": [
    {
     "data": {
      "image/png": "[encoded data removed]",
      "text/plain": [
       "<Figure size 1080x72 with 15 Axes>"
      ]
     },
     "metadata": {},
     "output_type": "display_data"
    }
   ],
   "source": [
    "example_num = 15\n",
    "plt.figure(figsize=(example_num,1))\n",
    "\n",
    "for i in range(example_num):\n",
    "    plt.subplot(1,example_num,i+1)\n",
    "    plt.imshow(X_train[i,:,:],cmap=plt.cm.gray_r)\n",
    "    plt.title('Label {}'.format(Y_train[i]))\n",
    "    plt.grid(False)\n",
    "    plt.axis('off')\n",
    "plt.show()"
   ]
  },
  {
   "cell_type": "code",
   "execution_count": 193,
   "metadata": {},
   "outputs": [
    {
     "name": "stdout",
     "output_type": "stream",
     "text": [
      "105\n"
     ]
    }
   ],
   "source": [
    "batch_size = 512\n",
    "n_batch = m // batch_size \n",
    "\n",
    "print(n_batch)\n",
    "\n",
    "mini_batches = [] \n",
    "for i in range(n_batch): \n",
    "    idx = np.arange(i*batch_size,(i + 1)*batch_size)\n",
    "    #print(idx)\n",
    "    mini_batchX = X_train[idx,:,:]\n",
    "    mini_batchY = Y_train[idx] \n",
    "    mini_batches.append((mini_batchX, mini_batchY)) \n",
    "    \n",
    "if m % batch_size != 0: \n",
    "    idx = np.arange((i+1)*batch_size,m)\n",
    "    #print(idx)\n",
    "    mini_batchX = X_train[idx,:,:]\n",
    "    mini_batchY = Y_train[idx] \n",
    "    mini_batches.append((mini_batchX, mini_batchY)) \n"
   ]
  },
  {
   "cell_type": "code",
   "execution_count": 195,
   "metadata": {},
   "outputs": [
    {
     "name": "stdout",
     "output_type": "stream",
     "text": [
      "starting cost = 2.3718\n",
      "cost after  0 epoch = 1.0318, train accuracy = 68.06%, validation accuracy = 67.60%\n",
      "cost after  1 epoch = 0.7082, train accuracy = 77.97%, validation accuracy = 77.73%\n",
      "cost after  2 epoch = 0.6119, train accuracy = 81.53%, validation accuracy = 81.12%\n",
      "cost after  3 epoch = 0.4721, train accuracy = 85.33%, validation accuracy = 84.67%\n",
      "cost after  4 epoch = 0.4048, train accuracy = 87.97%, validation accuracy = 87.55%\n",
      "cost after  5 epoch = 0.3412, train accuracy = 89.74%, validation accuracy = 89.70%\n",
      "cost after  6 epoch = 0.2786, train accuracy = 90.68%, validation accuracy = 90.52%\n",
      "cost after  7 epoch = 0.2388, train accuracy = 91.22%, validation accuracy = 90.97%\n",
      "cost after  8 epoch = 0.2143, train accuracy = 91.70%, validation accuracy = 91.57%\n",
      "cost after  9 epoch = 0.1977, train accuracy = 92.28%, validation accuracy = 92.05%\n"
     ]
    }
   ],
   "source": [
    "tf.reset_default_graph()\n",
    "\n",
    "X = tf.placeholder(dtype=tf.float32,shape=(None,n_x,T_x),name='X')\n",
    "Y = tf.placeholder(dtype=tf.int32,shape=(None,),name='Y')\n",
    "\n",
    "\n",
    "Wax = tf.get_variable('Wax',shape=(n_x,n_a),dtype=tf.float32,initializer=tf.contrib.layers.xavier_initializer())\n",
    "Waa = tf.get_variable('Waa',shape=(n_a,n_a),dtype=tf.float32,initializer=tf.contrib.layers.xavier_initializer())\n",
    "ba = tf.get_variable('ba',shape=(1,n_a),dtype=tf.float32,initializer=tf.zeros_initializer())\n",
    "    \n",
    "Wya = tf.get_variable('Wya',shape=(n_a,n_y),dtype=tf.float32,initializer=tf.contrib.layers.xavier_initializer())\n",
    "by = tf.get_variable('by',shape=(1,n_y),dtype=tf.float32,initializer=tf.zeros_initializer())\n",
    "\n",
    "X_seq = tf.unstack(X,num=T_x,axis=2)\n",
    "\n",
    "prev_state = tf.zeros((1,n_a))\n",
    "for t in range(T_x):\n",
    "    current_state = tf.tanh(tf.matmul(X_seq[t],Wax) + tf.matmul(prev_state,Waa) + ba)\n",
    "    prev_state = current_state\n",
    "\n",
    "Z = tf.matmul(current_state,Wya) + by\n",
    "\n",
    "cost = tf.reduce_mean(tf.nn.sparse_softmax_cross_entropy_with_logits(labels=Y,logits=Z))\n",
    "optimizer = tf.train.AdamOptimizer(learning_rate=0.001).minimize(cost)\n",
    "\n",
    "Y_pred = tf.argmax(tf.nn.softmax(Z),axis=1,output_type=tf.int32)\n",
    "accr = 100*tf.reduce_mean(tf.cast(tf.equal(Y_pred,Y), tf.float32))\n",
    "\n",
    "\n",
    "epoch_num = 10\n",
    "with tf.Session() as sess:\n",
    "    \n",
    "    sess.run(tf.global_variables_initializer())\n",
    "    \n",
    "    print('starting cost = %.4f' % sess.run(cost,feed_dict={X:X_train,Y:Y_train}))\n",
    "    \n",
    "    for i in range(epoch_num):\n",
    "        \n",
    "        for mini_batch in mini_batches:\n",
    "            mini_batchX, mini_batchY = mini_batch\n",
    "            \n",
    "            _,cost_val = sess.run([optimizer,cost],feed_dict={X:mini_batchX,Y:mini_batchY})\n",
    "        \n",
    "        valid_accr = sess.run(accr,feed_dict={X:X_valid,Y:Y_valid})\n",
    "        train_accr = sess.run(accr,feed_dict={X:X_train,Y:Y_train})\n",
    "        \n",
    "        print('cost after %2d epoch = %.4f, train accuracy = %.2f%%, validation accuracy = %.2f%%' % (i,cost_val,train_accr,valid_accr))\n",
    "    "
   ]
  }
 ],
 "metadata": {
  "kernelspec": {
   "display_name": "Python 3",
   "language": "python",
   "name": "python3"
  },
  "language_info": {
   "codemirror_mode": {
    "name": "ipython",
    "version": 3
   },
   "file_extension": ".py",
   "mimetype": "text/x-python",
   "name": "python",
   "nbconvert_exporter": "python",
   "pygments_lexer": "ipython3",
   "version": "3.7.6"
  },
  "varInspector": {
   "cols": {
    "lenName": 16,
    "lenType": 16,
    "lenVar": 40
   },
   "kernels_config": {
    "python": {
     "delete_cmd_postfix": "",
     "delete_cmd_prefix": "del ",
     "library": "var_list.py",
     "varRefreshCmd": "print(var_dic_list())"
    },
    "r": {
     "delete_cmd_postfix": ") ",
     "delete_cmd_prefix": "rm(",
     "library": "var_list.r",
     "varRefreshCmd": "cat(var_dic_list()) "
    }
   },
   "position": {
    "height": "279px",
    "left": "907px",
    "right": "20px",
    "top": "120px",
    "width": "350px"
   },
   "types_to_exclude": [
    "module",
    "function",
    "builtin_function_or_method",
    "instance",
    "_Feature"
   ],
   "window_display": false
  }
 },
 "nbformat": 4,
 "nbformat_minor": 2
}
