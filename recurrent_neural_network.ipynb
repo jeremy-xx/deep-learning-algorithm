{
 "cells": [
  {
   "cell_type": "markdown",
   "metadata": {},
   "source": [
    "## Recurrent Neural Network"
   ]
  },
  {
   "cell_type": "code",
   "execution_count": 60,
   "metadata": {},
   "outputs": [],
   "source": [
    "import numpy as np\n",
    "import matplotlib.pyplot as plt\n",
    "import seaborn as sns\n",
    "import tensorflow as tf\n",
    "from keras.datasets import mnist\n",
    "from sklearn.preprocessing import OneHotEncoder\n",
    "\n",
    "sns.set()"
   ]
  },
  {
   "cell_type": "code",
   "execution_count": 122,
   "metadata": {},
   "outputs": [],
   "source": [
    "# load mnist of handwritten digits data\n",
    "(x_train, y_train), (x_test, y_test) = mnist.load_data()\n",
    "x_train = x_train[:5000,:,:]/255\n",
    "y_train = y_train[:5000]\n",
    "\n",
    "x_test  = x_test/255\n",
    "\n"
   ]
  },
  {
   "cell_type": "code",
   "execution_count": 143,
   "metadata": {},
   "outputs": [],
   "source": [
    "# change dimension of X\n",
    "X_train = np.transpose(x_train,(1,2,0))\n",
    "X_test  = np.transpose(x_test,(1,2,0))\n",
    "\n",
    "# one hot for Y\n",
    "Y_train = np.reshape(y_train,(-1,1))\n",
    "Y_test  = np.reshape(y_test,(-1,1))\n",
    "enc = OneHotEncoder(categories='auto',sparse=False)\n",
    "enc.fit(Y_train)\n",
    "Y_train = np.transpose(enc.transform(Y_train))\n",
    "Y_test = np.transpose(enc.transform(Y_test))"
   ]
  },
  {
   "cell_type": "code",
   "execution_count": 124,
   "metadata": {},
   "outputs": [],
   "source": [
    "n_x = 28\n",
    "T_x = 28\n",
    "n_a = 50\n",
    "n_y = 10"
   ]
  },
  {
   "cell_type": "code",
   "execution_count": 125,
   "metadata": {},
   "outputs": [
    {
     "data": {
      "image/png": "[encoded data removed]",
      "text/plain": [
       "<Figure size 1080x72 with 15 Axes>"
      ]
     },
     "metadata": {},
     "output_type": "display_data"
    }
   ],
   "source": [
    "example_num = 15\n",
    "plt.figure(figsize=(example_num,1))\n",
    "\n",
    "for i in range(example_num):\n",
    "    plt.subplot(1,example_num,i+1)\n",
    "    plt.imshow(X_train[:,:,i],cmap=plt.cm.gray_r)\n",
    "    plt.title('Label {}'.format(np.argmax(Y_train[:,i])))\n",
    "    plt.grid(False)\n",
    "    plt.axis('off')\n",
    "plt.show()"
   ]
  },
  {
   "cell_type": "code",
   "execution_count": 144,
   "metadata": {},
   "outputs": [
    {
     "name": "stdout",
     "output_type": "stream",
     "text": [
      "cost after 0 iterations = 2.3593, train accuracy = 10.4, test accuracy = 10.8\n",
      "cost after 10 iterations = 2.1088, train accuracy = 30.5, test accuracy = 29.5\n",
      "cost after 20 iterations = 1.8949, train accuracy = 39.9, test accuracy = 39.0\n",
      "cost after 30 iterations = 1.7105, train accuracy = 46.9, test accuracy = 45.1\n",
      "cost after 40 iterations = 1.5442, train accuracy = 51.5, test accuracy = 49.6\n",
      "cost after 50 iterations = 1.3993, train accuracy = 56.4, test accuracy = 54.3\n",
      "cost after 60 iterations = 1.2868, train accuracy = 59.2, test accuracy = 57.3\n",
      "cost after 70 iterations = 1.1890, train accuracy = 62.9, test accuracy = 61.3\n",
      "cost after 80 iterations = 1.0915, train accuracy = 67.0, test accuracy = 64.3\n",
      "cost after 90 iterations = 0.9951, train accuracy = 69.9, test accuracy = 66.8\n",
      "cost after 100 iterations = 0.9063, train accuracy = 72.6, test accuracy = 69.3\n",
      "cost after 110 iterations = 0.8233, train accuracy = 75.8, test accuracy = 72.8\n",
      "cost after 120 iterations = 0.7459, train accuracy = 79.4, test accuracy = 75.0\n",
      "cost after 130 iterations = 0.6760, train accuracy = 81.4, test accuracy = 76.9\n",
      "cost after 140 iterations = 0.6202, train accuracy = 83.1, test accuracy = 78.4\n",
      "cost after 150 iterations = 0.5711, train accuracy = 84.6, test accuracy = 79.7\n",
      "cost after 160 iterations = 0.5297, train accuracy = 85.9, test accuracy = 80.9\n",
      "cost after 170 iterations = 0.4937, train accuracy = 86.8, test accuracy = 81.9\n",
      "cost after 180 iterations = 0.4625, train accuracy = 87.8, test accuracy = 82.7\n",
      "cost after 190 iterations = 0.4352, train accuracy = 88.4, test accuracy = 83.2\n"
     ]
    }
   ],
   "source": [
    "tf.reset_default_graph()\n",
    "\n",
    "batchX = tf.placeholder(dtype=tf.float32,shape=(n_x,T_x,None),name='X')\n",
    "batchY = tf.placeholder(dtype=tf.float32,shape=(n_y,None),name='Y')\n",
    "\n",
    "\n",
    "Wax = tf.get_variable('Wax',shape=(n_a,n_x),dtype=tf.float32,initializer=tf.contrib.layers.xavier_initializer())\n",
    "Waa = tf.get_variable('Waa',shape=(n_a,n_a),dtype=tf.float32,initializer=tf.contrib.layers.xavier_initializer())\n",
    "ba = tf.get_variable('ba',shape=(n_a,1),dtype=tf.float32,initializer=tf.zeros_initializer())\n",
    "    \n",
    "Wya = tf.get_variable('Wya',shape=(n_y,n_a),dtype=tf.float32,initializer=tf.contrib.layers.xavier_initializer())\n",
    "by = tf.get_variable('by',shape=(n_y,1),dtype=tf.float32,initializer=tf.zeros_initializer())\n",
    "\n",
    "batchX_seq = tf.unstack(batchX,num=T_x,axis=1)\n",
    "\n",
    "prev_state = tf.zeros((n_a,1))\n",
    "for t in range(T_x):\n",
    "    current_state = tf.tanh(tf.matmul(Wax,batchX_seq[t]) + tf.matmul(Waa,prev_state) + ba)\n",
    "    prev_state = current_state\n",
    "\n",
    "logits = tf.transpose(tf.matmul(Wya,current_state) + by)\n",
    "labels = tf.transpose(batchY)\n",
    "    \n",
    "batchY_pred = tf.transpose(tf.nn.softmax(logits))\n",
    "cost = tf.reduce_mean(tf.nn.softmax_cross_entropy_with_logits(labels=labels,logits=logits))\n",
    "\n",
    "optimizer = tf.train.AdamOptimizer(learning_rate=0.001).minimize(cost)\n",
    "accr = 100*tf.reduce_mean(tf.cast(tf.equal(tf.argmax(batchY_pred,0), tf.argmax(batchY,0)), tf.float32))\n",
    "\n",
    "iteration_num = 200\n",
    "with tf.Session() as sess:\n",
    "    \n",
    "    sess.run(tf.global_variables_initializer())\n",
    "    \n",
    "    for i in range(iteration_num):\n",
    "        _,cost_val = sess.run([optimizer,cost],\n",
    "                                  feed_dict={batchX:X_train,batchY:Y_train})\n",
    "        \n",
    "        train_accr = sess.run(accr,feed_dict={batchX:X_train,batchY:Y_train})\n",
    "        test_accr = sess.run(accr,feed_dict={batchX:X_test,batchY:Y_test})\n",
    "        if i%10 == 0:\n",
    "            print(\"cost after %d iterations = %.4f, train accuracy = %.1f, test accuracy = %.1f\" % (i,cost_val,train_accr,test_accr))\n",
    "    "
   ]
  }
 ],
 "metadata": {
  "kernelspec": {
   "display_name": "Python 3",
   "language": "python",
   "name": "python3"
  },
  "language_info": {
   "codemirror_mode": {
    "name": "ipython",
    "version": 3
   },
   "file_extension": ".py",
   "mimetype": "text/x-python",
   "name": "python",
   "nbconvert_exporter": "python",
   "pygments_lexer": "ipython3",
   "version": "3.6.8"
  },
  "varInspector": {
   "cols": {
    "lenName": 16,
    "lenType": 16,
    "lenVar": 40
   },
   "kernels_config": {
    "python": {
     "delete_cmd_postfix": "",
     "delete_cmd_prefix": "del ",
     "library": "var_list.py",
     "varRefreshCmd": "print(var_dic_list())"
    },
    "r": {
     "delete_cmd_postfix": ") ",
     "delete_cmd_prefix": "rm(",
     "library": "var_list.r",
     "varRefreshCmd": "cat(var_dic_list()) "
    }
   },
   "position": {
    "height": "279px",
    "left": "907px",
    "right": "20px",
    "top": "120px",
    "width": "350px"
   },
   "types_to_exclude": [
    "module",
    "function",
    "builtin_function_or_method",
    "instance",
    "_Feature"
   ],
   "window_display": false
  }
 },
 "nbformat": 4,
 "nbformat_minor": 2
}
