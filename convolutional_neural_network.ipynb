{
 "cells": [
  {
   "cell_type": "markdown",
   "metadata": {},
   "source": [
    "# Convolutional Neural Networks"
   ]
  },
  {
   "cell_type": "code",
   "execution_count": 2,
   "metadata": {},
   "outputs": [],
   "source": [
    "import numpy as np\n",
    "import pandas as pd\n",
    "import tensorflow as tf\n",
    "import matplotlib.pyplot as plt\n",
    "\n",
    "from sklearn import model_selection\n",
    "from sklearn import datasets"
   ]
  },
  {
   "cell_type": "markdown",
   "metadata": {},
   "source": [
    "## Types of Layer in a ConvNet\n",
    "- Convolutional layer\n",
    "- Pooling layer(Maximum/Average)\n",
    "- Fully connected layer"
   ]
  },
  {
   "cell_type": "code",
   "execution_count": 3,
   "metadata": {},
   "outputs": [],
   "source": [
    "# some code here\n"
   ]
  },
  {
   "cell_type": "markdown",
   "metadata": {},
   "source": [
    "## Example - Digits Sign Language "
   ]
  },
  {
   "cell_type": "code",
   "execution_count": 4,
   "metadata": {},
   "outputs": [],
   "source": [
    "# load sklearn digits dataset, which is a easier one\n",
    "#digits = datasets.load_digits(return_X_y=False)\n",
    "\n",
    "#X_all = digits.images/16.0\n",
    "#X_all = X_all[:,:,:,np.newaxis]\n",
    "\n",
    "#with tf.Session() as sess:\n",
    "#    Y_all = sess.run(tf.one_hot(digits.target, 10, axis=-1))"
   ]
  },
  {
   "cell_type": "code",
   "execution_count": 5,
   "metadata": {},
   "outputs": [],
   "source": [
    "# load Sign-language-digits-dataset, which is more complicated \n",
    "X_all = np.load('Sign-language-digits-dataset/X.npy')\n",
    "X_all = X_all[:,:,:,np.newaxis]\n",
    "Y_all = np.load('Sign-language-digits-dataset/Y.npy')"
   ]
  },
  {
   "cell_type": "code",
   "execution_count": 6,
   "metadata": {},
   "outputs": [
    {
     "name": "stdout",
     "output_type": "stream",
     "text": [
      "[0. 0. 0. 0. 1. 0. 0. 0. 0. 0.]\n"
     ]
    },
    {
     "data": {
      "image/png": "[encoded data removed]",
      "text/plain": [
       "<Figure size 144x144 with 1 Axes>"
      ]
     },
     "metadata": {
      "needs_background": "light"
     },
     "output_type": "display_data"
    }
   ],
   "source": [
    "# plot one image\n",
    "index = 900\n",
    "print(Y_all[index,:])\n",
    "\n",
    "plt.figure(figsize=(2,2))\n",
    "plt.gray()\n",
    "plt.matshow(X_all[index,:,:,0],fignum=1) \n",
    "plt.show() "
   ]
  },
  {
   "cell_type": "code",
   "execution_count": 7,
   "metadata": {},
   "outputs": [],
   "source": [
    "# split in train and test dataset\n",
    "X_train, X_test, Y_train, Y_test = model_selection.train_test_split(X_all, Y_all, test_size=0.1, random_state=0)"
   ]
  },
  {
   "cell_type": "code",
   "execution_count": 8,
   "metadata": {},
   "outputs": [
    {
     "name": "stderr",
     "output_type": "stream",
     "text": [
      "WARNING: Logging before flag parsing goes to stderr.\n",
      "W1003 22:16:27.289873 140736475816896 lazy_loader.py:50] \n",
      "The TensorFlow contrib module will not be included in TensorFlow 2.0.\n",
      "For more information, please see:\n",
      "  * https://github.com/tensorflow/community/blob/master/rfcs/20180907-contrib-sunset.md\n",
      "  * https://github.com/tensorflow/addons\n",
      "  * https://github.com/tensorflow/io (for I/O related ops)\n",
      "If you depend on functionality not listed there, please file an issue.\n",
      "\n",
      "W1003 22:16:27.329560 140736475816896 deprecation.py:323] From /Applications/anaconda3/lib/python3.6/site-packages/tensorflow/contrib/layers/python/layers/layers.py:1634: flatten (from tensorflow.python.layers.core) is deprecated and will be removed in a future version.\n",
      "Instructions for updating:\n",
      "Use keras.layers.flatten instead.\n",
      "W1003 22:16:27.857584 140736475816896 deprecation.py:323] From <ipython-input-8-e9c8c4c25689>:37: softmax_cross_entropy_with_logits (from tensorflow.python.ops.nn_ops) is deprecated and will be removed in a future version.\n",
      "Instructions for updating:\n",
      "\n",
      "Future major versions of TensorFlow will allow gradients to flow\n",
      "into the labels input on backprop by default.\n",
      "\n",
      "See `tf.nn.softmax_cross_entropy_with_logits_v2`.\n",
      "\n"
     ]
    },
    {
     "name": "stdout",
     "output_type": "stream",
     "text": [
      "Cost after epoch 0: 2.337419271469116\n",
      "Cost after epoch 10: 2.259026288986206\n",
      "Cost after epoch 20: 2.0474190711975098\n",
      "Cost after epoch 30: 1.452917456626892\n",
      "Cost after epoch 40: 0.9716278314590454\n",
      "Cost after epoch 50: 0.6802651286125183\n",
      "Cost after epoch 60: 0.5095874071121216\n",
      "Cost after epoch 70: 0.400489866733551\n",
      "Cost after epoch 80: 0.333442360162735\n",
      "Cost after epoch 90: 0.279442697763443\n",
      "Train Accuracy: 0.9266846\n",
      "Test Accuracy: 0.8695652\n"
     ]
    }
   ],
   "source": [
    "learning_rate = 0.01\n",
    "num_iteration = 100\n",
    "print_cost = True\n",
    "\n",
    "# train using the convolutional neural network built upon tensorflow\n",
    "tf.reset_default_graph()\n",
    "tf.set_random_seed(0)\n",
    "\n",
    "X = tf.placeholder(tf.float32,shape=[None,64,64,1],name='X')\n",
    "Y = tf.placeholder(tf.float32,shape=[None,10],name='Y')\n",
    "\n",
    "\n",
    "W1 = tf.get_variable('W1',[3,3,1,8],initializer=tf.contrib.layers.xavier_initializer(seed=1))\n",
    "# conv1\n",
    "Z1 = tf.nn.conv2d(X,W1,strides=1,padding = 'SAME')\n",
    "A1 = tf.nn.relu(Z1)\n",
    "\n",
    "# max pooling1\n",
    "P1 = tf.nn.max_pool(A1, ksize = [1,8,8,1], strides = [1,8,8,1], padding = 'SAME')\n",
    "\n",
    "# conv2\n",
    "W2 = tf.get_variable('W2',[3,3,8,16],initializer=tf.contrib.layers.xavier_initializer(seed=1))\n",
    "Z2 = tf.nn.conv2d(P1,W2,strides=1,padding = 'SAME')\n",
    "A2 = tf.nn.relu(Z2)\n",
    "\n",
    "# max pooling2\n",
    "P2 = tf.nn.max_pool(A2, ksize = [1,4,4,1], strides = [1,4,4,1], padding = 'SAME')\n",
    "\n",
    "# flatten\n",
    "P2_flat = tf.contrib.layers.flatten(P2)\n",
    "\n",
    "# fully connected\n",
    "Z3 = tf.contrib.layers.fully_connected(P2_flat, 10, activation_fn=None) \n",
    "# this just run the linear operation by setting activation_fn=None\n",
    "\n",
    "# softmax\n",
    "cost = tf.reduce_mean(tf.nn.softmax_cross_entropy_with_logits(logits=Z3,labels=Y))\n",
    "\n",
    "optimizer = tf.train.AdamOptimizer(learning_rate=learning_rate).minimize(cost)\n",
    "\n",
    "with tf.Session() as sess:\n",
    "    sess.run(tf.global_variables_initializer())\n",
    "    \n",
    "    for i in range(num_iteration):\n",
    "        \n",
    "        # implement mini-batch later\n",
    "        \n",
    "        _,cost_value = sess.run([optimizer,cost],feed_dict={X:X_train,Y:Y_train})\n",
    "        \n",
    "        if print_cost == True and i % 10 == 0:\n",
    "                print (\"Cost after epoch {}: {}\".format(i,cost_value))\n",
    "    \n",
    "    W1_value = sess.run(W1)\n",
    "    W2_value = sess.run(W2)\n",
    "    \n",
    "    # Calculate the correct predictions\n",
    "    predict_op = tf.argmax(Z3, 1)\n",
    "    correct_prediction = tf.equal(predict_op, tf.argmax(Y, 1))\n",
    "    \n",
    "    # Calculate accuracy on the test set\n",
    "    accuracy = tf.reduce_mean(tf.cast(correct_prediction, \"float\"))\n",
    "    train_accuracy = accuracy.eval({X: X_train, Y: Y_train})\n",
    "    print(\"Train Accuracy:\", train_accuracy)\n",
    "    \n",
    "    test_accuracy = accuracy.eval({X: X_test, Y: Y_test})\n",
    "    print(\"Test Accuracy:\", test_accuracy)"
   ]
  },
  {
   "cell_type": "code",
   "execution_count": 11,
   "metadata": {},
   "outputs": [
    {
     "data": {
      "image/png": "[encoded data removed]",
      "text/plain": [
       "<Figure size 1440x216 with 8 Axes>"
      ]
     },
     "metadata": {
      "needs_background": "light"
     },
     "output_type": "display_data"
    }
   ],
   "source": [
    "# plot the the weights of the first layer to show edge detection effect\n",
    "# write some explanation and refer the imaginary flow of CNN, according to this paper https://ujjwalkarn.me/2016/08/11/intuitive-explanation-convnets/\n",
    "plt.figure(figsize=[20,3])\n",
    "for i in range(8):\n",
    "    plt.subplot(1,8,i+1)\n",
    "    plt.gray()\n",
    "    plt.imshow(W1_value[:,:,0,i])\n",
    "plt.show() "
   ]
  }
 ],
 "metadata": {
  "kernelspec": {
   "display_name": "Python 3",
   "language": "python",
   "name": "python3"
  },
  "language_info": {
   "codemirror_mode": {
    "name": "ipython",
    "version": 3
   },
   "file_extension": ".py",
   "mimetype": "text/x-python",
   "name": "python",
   "nbconvert_exporter": "python",
   "pygments_lexer": "ipython3",
   "version": "3.6.8"
  },
  "varInspector": {
   "cols": {
    "lenName": 16,
    "lenType": 16,
    "lenVar": 40
   },
   "kernels_config": {
    "python": {
     "delete_cmd_postfix": "",
     "delete_cmd_prefix": "del ",
     "library": "var_list.py",
     "varRefreshCmd": "print(var_dic_list())"
    },
    "r": {
     "delete_cmd_postfix": ") ",
     "delete_cmd_prefix": "rm(",
     "library": "var_list.r",
     "varRefreshCmd": "cat(var_dic_list()) "
    }
   },
   "types_to_exclude": [
    "module",
    "function",
    "builtin_function_or_method",
    "instance",
    "_Feature"
   ],
   "window_display": true
  }
 },
 "nbformat": 4,
 "nbformat_minor": 2
}
