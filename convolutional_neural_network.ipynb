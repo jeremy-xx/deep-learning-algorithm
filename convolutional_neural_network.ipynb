{
 "cells": [
  {
   "cell_type": "markdown",
   "metadata": {},
   "source": [
    "# Convolutional Neural Networks"
   ]
  },
  {
   "cell_type": "code",
   "execution_count": 1,
   "metadata": {},
   "outputs": [],
   "source": [
    "import numpy as np\n",
    "import matplotlib.pyplot as plt\n",
    "import seaborn as sns\n",
    "import tensorflow as tf\n",
    "from tensorflow.keras.datasets import mnist\n",
    "import time\n",
    "import os\n",
    "os.environ['KMP_DUPLICATE_LIB_OK']='True'\n",
    "\n",
    "sns.set()\n",
    "sns.set_style('white')"
   ]
  },
  {
   "cell_type": "markdown",
   "metadata": {},
   "source": [
    "Layers in a ConvNet:\n",
    "- Convolutional layer\n",
    "- MaxPooling layer\n",
    "- Fully connected layer"
   ]
  },
  {
   "cell_type": "markdown",
   "metadata": {},
   "source": [
    "## mnist digits"
   ]
  },
  {
   "cell_type": "code",
   "execution_count": 2,
   "metadata": {},
   "outputs": [],
   "source": [
    "# load mnist of handwritten digits data\n",
    "(x_train, y_train), (x_test,y_test) = mnist.load_data()\n",
    "\n",
    "# Making sure that the values are float so that we can get decimal points after division\n",
    "x_train = x_train.astype('float32')/255.0\n",
    "x_test  = x_test.astype('float32')/255.0\n",
    "\n",
    "y_train = y_train.astype('int64')\n",
    "y_test = y_test.astype('int64')"
   ]
  },
  {
   "cell_type": "code",
   "execution_count": 3,
   "metadata": {},
   "outputs": [
    {
     "data": {
      "image/png": "[encoded data removed]",
      "text/plain": [
       "<Figure size 1080x72 with 15 Axes>"
      ]
     },
     "metadata": {
      "needs_background": "light"
     },
     "output_type": "display_data"
    }
   ],
   "source": [
    "n_ex = 15\n",
    "plt.figure(figsize=(n_ex,1))\n",
    "\n",
    "for i in range(n_ex):\n",
    "    plt.subplot(1,n_ex,i+1)\n",
    "    plt.imshow(x_train[i,:,:],cmap=plt.cm.gray_r)\n",
    "    plt.title('Label {}'.format(y_train[i]))\n",
    "    plt.grid(False)\n",
    "    plt.axis('off')\n",
    "plt.show()"
   ]
  },
  {
   "cell_type": "code",
   "execution_count": 4,
   "metadata": {},
   "outputs": [],
   "source": [
    "xavier = tf.initializers.GlorotNormal()\n",
    "w_conv = tf.Variable(xavier(shape=(3,3,1,10)))\n",
    "b_conv = tf.Variable(tf.zeros((1,1,1,10)))\n",
    "\n",
    "w_dens = tf.Variable(xavier(shape=(1690,10)))\n",
    "b_dens = tf.Variable(tf.zeros((1,10)))\n",
    "variables = [w_conv,w_dens,b_dens]\n",
    "\n",
    "def forward_model(x):\n",
    "    \n",
    "    x_ = tf.expand_dims(x,axis=-1)\n",
    "    \n",
    "    z_conv = tf.nn.conv2d(x_,w_conv,strides=1,padding='VALID') + b_conv\n",
    "    a_conv = tf.nn.relu(z_conv)\n",
    "    #print(a_conv.shape)\n",
    "    a_pool = tf.nn.max_pool(a_conv, ksize = (1,2,2,1), strides = (1,2,2,1), padding='VALID')\n",
    "    #print(a_pool.shape)\n",
    "    a_flat = tf.reshape(a_pool,(a_pool.shape[0],-1))\n",
    "    #print(a_flat.shape)\n",
    "    \n",
    "    z_dens = tf.matmul(a_flat,w_dens) + b_dens\n",
    "    #print(z_dens.shape)\n",
    "    \n",
    "    return z_dens\n",
    "\n",
    "def compute_loss(y,z):\n",
    "    \n",
    "    loss = tf.reduce_mean(tf.nn.sparse_softmax_cross_entropy_with_logits(logits=z,labels=y))\n",
    "    return loss\n",
    "\n",
    "def compute_acc(y,z):\n",
    "    a= tf.nn.softmax(z)\n",
    "    y_pred = tf.argmax(a, axis=1,output_type=tf.int64)\n",
    "    acc = tf.reduce_mean(tf.cast(tf.equal(y_pred,y),tf.float32))\n",
    "\n",
    "    return acc\n",
    "\n",
    "\n",
    "optimizer = tf.optimizers.Adam(learning_rate=0.01)\n",
    "\n",
    "@tf.function\n",
    "def train_batch(x,y):\n",
    "    with tf.GradientTape() as tape:        \n",
    "        z = forward_model(x)\n",
    "        loss = compute_loss(y,z)\n",
    "        grads = tape.gradient(loss,variables)\n",
    "        optimizer.apply_gradients(zip(grads,variables))\n",
    "        \n",
    "        acc = compute_acc(y,z)\n",
    "    return loss,acc"
   ]
  },
  {
   "cell_type": "code",
   "execution_count": 5,
   "metadata": {},
   "outputs": [
    {
     "name": "stdout",
     "output_type": "stream",
     "text": [
      "initial loss = 2.3584\n",
      "loss after 1 epoch = 0.0202, acc = 0.9900\n",
      "47.19469690322876\n"
     ]
    }
   ],
   "source": [
    "z = forward_model(x_train[:100,:,:])\n",
    "init_loss = compute_loss(y_train[:100],z)\n",
    "print('initial loss = %.4f' % init_loss)\n",
    "\n",
    "t1 = time.time()\n",
    "n_epoch = 1\n",
    "for i in range(n_epoch):\n",
    "    \n",
    "    for j in range(600):\n",
    "        k = np.arange(100*(j-1),100*j,1,np.int)\n",
    "        x_train_batch = x_train[k,:,:]\n",
    "        y_train_batch = y_train[k]\n",
    "        \n",
    "        current_loss,current_acc = train_batch(x_train_batch,y_train_batch)\n",
    "    print('loss after %d epoch = %.4f, acc = %.4f' % (i+1, current_loss, current_acc))\n",
    "t2 = time.time()\n",
    "print(t2-t1)"
   ]
  },
  {
   "cell_type": "markdown",
   "metadata": {},
   "source": [
    "### Keras framework\n"
   ]
  },
  {
   "cell_type": "code",
   "execution_count": 6,
   "metadata": {},
   "outputs": [
    {
     "name": "stdout",
     "output_type": "stream",
     "text": [
      "Model: \"sequential\"\n",
      "_________________________________________________________________\n",
      "Layer (type)                 Output Shape              Param #   \n",
      "=================================================================\n",
      "conv2d (Conv2D)              (None, 26, 26, 10)        100       \n",
      "_________________________________________________________________\n",
      "max_pooling2d (MaxPooling2D) (None, 13, 13, 10)        0         \n",
      "_________________________________________________________________\n",
      "flatten (Flatten)            (None, 1690)              0         \n",
      "_________________________________________________________________\n",
      "dense (Dense)                (None, 10)                16910     \n",
      "=================================================================\n",
      "Total params: 17,010\n",
      "Trainable params: 17,010\n",
      "Non-trainable params: 0\n",
      "_________________________________________________________________\n"
     ]
    }
   ],
   "source": [
    "model = tf.keras.Sequential()\n",
    "model.add(tf.keras.layers.Conv2D(10, kernel_size=(3,3), input_shape=(28, 28, 1)))\n",
    "model.add(tf.keras.layers.MaxPooling2D(pool_size=(2, 2)))\n",
    "model.add(tf.keras.layers.Flatten()) # Flattening the 2D arrays for fully connected layers\n",
    "model.add(tf.keras.layers.Dense(10,activation=tf.nn.softmax))\n",
    "\n",
    "model.compile(optimizer=tf.optimizers.Adam(learning_rate=0.01), \n",
    "              loss='sparse_categorical_crossentropy', \n",
    "              metrics=['accuracy'])\n",
    "\n",
    "model.summary()"
   ]
  },
  {
   "cell_type": "code",
   "execution_count": 7,
   "metadata": {},
   "outputs": [
    {
     "name": "stdout",
     "output_type": "stream",
     "text": [
      "Train on 60000 samples\n",
      "60000/60000 [==============================] - 46s 765us/sample - loss: 0.2286 - accuracy: 0.9323\n"
     ]
    },
    {
     "data": {
      "text/plain": [
       "<tensorflow.python.keras.callbacks.History at 0x1a4f6ad410>"
      ]
     },
     "execution_count": 7,
     "metadata": {},
     "output_type": "execute_result"
    }
   ],
   "source": [
    "model.fit(x_train[:,:,:,np.newaxis],y_train, epochs=1, batch_size=100)"
   ]
  },
  {
   "cell_type": "markdown",
   "metadata": {},
   "source": [
    "### What does CNN do/see?"
   ]
  },
  {
   "cell_type": "code",
   "execution_count": 10,
   "metadata": {},
   "outputs": [
    {
     "data": {
      "image/png": "[encoded data removed]",
      "text/plain": [
       "<Figure size 720x144 with 4 Axes>"
      ]
     },
     "metadata": {
      "needs_background": "light"
     },
     "output_type": "display_data"
    }
   ],
   "source": [
    "# plot the the weights of the first layer to show edge detection effect\n",
    "# https://ujjwalkarn.me/2016/08/11/intuitive-explanation-convnets/\n",
    "plt.figure(figsize=[10,2])\n",
    "for i in range(4):\n",
    "    plt.subplot(1,4,i+1)\n",
    "    plt.gray()\n",
    "    plt.imshow(w_conv[:,:,0,i])\n",
    "plt.show() "
   ]
  },
  {
   "cell_type": "markdown",
   "metadata": {},
   "source": [
    "Representation of CNNs\n",
    "\n",
    "<img src=\"cnn_representation.jpeg\" width=\"600\" />"
   ]
  }
 ],
 "metadata": {
  "kernelspec": {
   "display_name": "Python 3",
   "language": "python",
   "name": "python3"
  },
  "language_info": {
   "codemirror_mode": {
    "name": "ipython",
    "version": 3
   },
   "file_extension": ".py",
   "mimetype": "text/x-python",
   "name": "python",
   "nbconvert_exporter": "python",
   "pygments_lexer": "ipython3",
   "version": "3.7.6"
  },
  "varInspector": {
   "cols": {
    "lenName": 16,
    "lenType": 16,
    "lenVar": 40
   },
   "kernels_config": {
    "python": {
     "delete_cmd_postfix": "",
     "delete_cmd_prefix": "del ",
     "library": "var_list.py",
     "varRefreshCmd": "print(var_dic_list())"
    },
    "r": {
     "delete_cmd_postfix": ") ",
     "delete_cmd_prefix": "rm(",
     "library": "var_list.r",
     "varRefreshCmd": "cat(var_dic_list()) "
    }
   },
   "types_to_exclude": [
    "module",
    "function",
    "builtin_function_or_method",
    "instance",
    "_Feature"
   ],
   "window_display": false
  }
 },
 "nbformat": 4,
 "nbformat_minor": 2
}
