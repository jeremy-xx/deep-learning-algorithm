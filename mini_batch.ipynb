{
 "cells": [
  {
   "cell_type": "code",
   "execution_count": 3,
   "metadata": {},
   "outputs": [],
   "source": [
    "import numpy as np\n",
    "import matplotlib.pyplot as plt\n",
    "import seaborn as sns\n",
    "import tensorflow as tf\n",
    "from keras.datasets import mnist\n",
    "\n",
    "sns.set()\n",
    "sns.set_style('white')"
   ]
  },
  {
   "cell_type": "code",
   "execution_count": 93,
   "metadata": {},
   "outputs": [],
   "source": [
    "# load mnist of handwritten digits data\n",
    "(x_train, y_train),_ = mnist.load_data()\n",
    "\n",
    "x_train = np.reshape(x_train,(60000,28*28))\n",
    "x_train = x_train/255.0\n",
    "\n",
    "n_sample = 500\n",
    "n_feature = 784\n",
    "x_train = x_train[:n_sample,:]\n",
    "y_train = y_train[:n_sample]"
   ]
  },
  {
   "cell_type": "code",
   "execution_count": 120,
   "metadata": {},
   "outputs": [],
   "source": [
    "# softmax regression\n",
    "tf.reset_default_graph()\n",
    "\n",
    "x = tf.placeholder(shape=(None,n_feature),dtype=tf.float32)\n",
    "y = tf.placeholder(shape=(None,),dtype=tf.int32)\n",
    "\n",
    "w = tf.get_variable('w',shape=(n_feature,10),dtype=tf.float32,initializer=tf.contrib.layers.xavier_initializer())\n",
    "b = tf.get_variable('b',shape=(1,10),dtype=tf.float32,initializer=tf.zeros_initializer())\n",
    "z = tf.matmul(x,w) + b\n",
    "\n",
    "a = tf.nn.softmax(z,axis=1)\n",
    "y_pred = tf.argmax(a,axis=1,output_type=tf.int32)\n",
    "accuracy = tf.reduce_mean(tf.cast(tf.equal(y_pred,y),tf.float32))\n",
    "\n",
    "cost = tf.reduce_mean(tf.nn.sparse_softmax_cross_entropy_with_logits(logits=z,labels=y))\n",
    "optimizer = tf.train.AdamOptimizer(learning_rate=0.02).minimize(cost)"
   ]
  },
  {
   "cell_type": "markdown",
   "metadata": {},
   "source": [
    "### Batch Gradient Gescent"
   ]
  },
  {
   "cell_type": "code",
   "execution_count": 122,
   "metadata": {},
   "outputs": [
    {
     "name": "stdout",
     "output_type": "stream",
     "text": [
      "Cost after epoch 0 = 2.4006, accuracy = 0.5540\n",
      "Cost after epoch 5 = 0.4875, accuracy = 0.8920\n",
      "Cost after epoch 10 = 0.2856, accuracy = 0.9240\n",
      "Cost after epoch 15 = 0.1818, accuracy = 0.9660\n",
      "Cost after epoch 20 = 0.1260, accuracy = 0.9720\n"
     ]
    },
    {
     "data": {
      "image/png": "[encoded data removed]",
      "text/plain": [
       "<Figure size 432x288 with 1 Axes>"
      ]
     },
     "metadata": {},
     "output_type": "display_data"
    }
   ],
   "source": [
    "print_cost = True\n",
    "epoch_num = 25\n",
    "cost_vec = np.zeros(epoch_num)\n",
    "with tf.Session() as sess:\n",
    "    sess.run(tf.global_variables_initializer())\n",
    "    \n",
    "    for i in range(epoch_num):\n",
    "        _,cost_val = sess.run([optimizer,cost],feed_dict={x:x_train,y:y_train})\n",
    "        cost_vec[i] = cost_val\n",
    "        if print_cost == True and i % 5 == 0:\n",
    "            accuracy_val = sess.run(accuracy,feed_dict={x:x_train, y:y_train})\n",
    "            print (\"Cost after epoch %d = %.4f, accuracy = %.4f\" % (i,cost_val,accuracy_val))\n",
    "\n",
    "plt.figure(figsize=(6,4))\n",
    "plt.plot(cost_vec)\n",
    "plt.show()"
   ]
  },
  {
   "cell_type": "markdown",
   "metadata": {},
   "source": [
    "### Stochastic Gradient Descent"
   ]
  },
  {
   "cell_type": "code",
   "execution_count": 123,
   "metadata": {},
   "outputs": [
    {
     "name": "stdout",
     "output_type": "stream",
     "text": [
      "Cost after epoch 0 = 0.8835, accuracy = 0.8280\n",
      "Cost after epoch 1 = 0.2767, accuracy = 0.9220\n",
      "Cost after epoch 2 = 0.4409, accuracy = 0.9260\n",
      "Cost after epoch 3 = 0.0935, accuracy = 0.9780\n",
      "Cost after epoch 4 = 0.1199, accuracy = 0.9640\n"
     ]
    },
    {
     "data": {
      "image/png": "[encoded data removed]",
      "text/plain": [
       "<Figure size 432x288 with 1 Axes>"
      ]
     },
     "metadata": {},
     "output_type": "display_data"
    }
   ],
   "source": [
    "print_cost = True\n",
    "epoch_num = 5\n",
    "cost_vec = np.zeros(epoch_num*n_sample)\n",
    "with tf.Session() as sess:\n",
    "    sess.run(tf.global_variables_initializer())\n",
    "    \n",
    "    k = 0\n",
    "    for i in range(epoch_num):\n",
    "        for j in range(n_sample):\n",
    "            sess.run(optimizer,feed_dict={x:x_train[[j],:],y:y_train[[j]]})\n",
    "            cost_val = sess.run(cost,feed_dict={x:x_train,y:y_train})\n",
    "            cost_vec[k] = cost_val\n",
    "            \n",
    "            k += 1\n",
    "        if print_cost == True and i % 1 == 0:\n",
    "            accuracy_val = sess.run(accuracy,feed_dict={x:x_train, y:y_train})\n",
    "            print (\"Cost after epoch %d = %.4f, accuracy = %.4f\" % (i,cost_val,accuracy_val))\n",
    "\n",
    "plt.figure(figsize=(6,4))\n",
    "plt.plot(cost_vec)\n",
    "plt.show()"
   ]
  },
  {
   "cell_type": "markdown",
   "metadata": {},
   "source": [
    "### Mini-batch Gradient Descend"
   ]
  },
  {
   "cell_type": "code",
   "execution_count": 108,
   "metadata": {},
   "outputs": [
    {
     "name": "stdout",
     "output_type": "stream",
     "text": [
      "batch num = 16\n"
     ]
    }
   ],
   "source": [
    "batch_size = 32\n",
    "batch_num = np.int32(n_sample/batch_size + 1)\n",
    "print('batch num = %d' % batch_num)\n",
    "\n",
    "batch_indices = []\n",
    "for i in range(batch_num-1):\n",
    "    batch_indices.append(np.arange(batch_size*i,batch_size*(i+1)))\n",
    "batch_indices.append(np.arange(batch_size*i,n_sample))"
   ]
  },
  {
   "cell_type": "code",
   "execution_count": 125,
   "metadata": {},
   "outputs": [
    {
     "name": "stdout",
     "output_type": "stream",
     "text": [
      "Cost after epoch 0 = 0.3871, accuracy = 0.8840\n",
      "Cost after epoch 1 = 0.2325, accuracy = 0.9280\n",
      "Cost after epoch 2 = 0.1079, accuracy = 0.9780\n",
      "Cost after epoch 3 = 0.0586, accuracy = 1.0000\n",
      "Cost after epoch 4 = 0.0413, accuracy = 1.0000\n"
     ]
    },
    {
     "data": {
      "image/png": "[encoded data removed]",
      "text/plain": [
       "<Figure size 432x288 with 1 Axes>"
      ]
     },
     "metadata": {},
     "output_type": "display_data"
    }
   ],
   "source": [
    "print_cost = True\n",
    "epoch_num = 5\n",
    "cost_vec = np.zeros(epoch_num*batch_num)\n",
    "with tf.Session() as sess:\n",
    "    sess.run(tf.global_variables_initializer())\n",
    "    \n",
    "    k = 0\n",
    "    for i in range(epoch_num):\n",
    "        for batch_index in batch_indices:\n",
    "            sess.run(optimizer,feed_dict={x:x_train[batch_index,:],y:y_train[batch_index]})\n",
    "            cost_val = sess.run(cost,feed_dict={x:x_train,y:y_train})\n",
    "            cost_vec[k] = cost_val\n",
    "            \n",
    "            k += 1\n",
    "        if print_cost == True and i % 1 == 0:\n",
    "            accuracy_val = sess.run(accuracy,feed_dict={x:x_train, y:y_train})\n",
    "            print (\"Cost after epoch %d = %.4f, accuracy = %.4f\" % (i,cost_val,accuracy_val))\n",
    "\n",
    "plt.figure(figsize=(6,4))\n",
    "plt.plot(cost_vec)\n",
    "plt.show()"
   ]
  }
 ],
 "metadata": {
  "kernelspec": {
   "display_name": "Python 3",
   "language": "python",
   "name": "python3"
  },
  "language_info": {
   "codemirror_mode": {
    "name": "ipython",
    "version": 3
   },
   "file_extension": ".py",
   "mimetype": "text/x-python",
   "name": "python",
   "nbconvert_exporter": "python",
   "pygments_lexer": "ipython3",
   "version": "3.6.8"
  },
  "varInspector": {
   "cols": {
    "lenName": 16,
    "lenType": 16,
    "lenVar": 40
   },
   "kernels_config": {
    "python": {
     "delete_cmd_postfix": "",
     "delete_cmd_prefix": "del ",
     "library": "var_list.py",
     "varRefreshCmd": "print(var_dic_list())"
    },
    "r": {
     "delete_cmd_postfix": ") ",
     "delete_cmd_prefix": "rm(",
     "library": "var_list.r",
     "varRefreshCmd": "cat(var_dic_list()) "
    }
   },
   "types_to_exclude": [
    "module",
    "function",
    "builtin_function_or_method",
    "instance",
    "_Feature"
   ],
   "window_display": true
  }
 },
 "nbformat": 4,
 "nbformat_minor": 2
}
